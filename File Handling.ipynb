{
 "cells": [
  {
   "cell_type": "code",
   "execution_count": 22,
   "id": "58cf9d59-614c-44fb-aa8f-812f21eeeaa9",
   "metadata": {},
   "outputs": [
    {
     "name": "stdout",
     "output_type": "stream",
     "text": [
      "Haris\n",
      "\n",
      "Topic;Non  Chronological  Report\n",
      "Ex;Write a  non  chronological  report  on  lion.\n",
      "Lions\n",
      "How  big are lions?\n",
      "Lions  are  the  second  largest type of  cat  in  the world.The  average\n",
      "male lion  weighs  around  180 kg  400 lb while  the  average  female\n",
      "lion  weighs  around  130  kg 290 lb.\n",
      "Where  do  lions live?\n",
      "Lions mostly  live  in  the grasslands,savanna  and  open  woodlands of\n",
      "Africa.\n",
      "Do  lions live on their own?\n",
      "No,lions  live in goups  called prides.Sometimes, a pride  can  contain as\n",
      "many as 40 lions,but  they can also  have  as few  as  three!\n",
      "What do  lions  eat?\n",
      "Lions  are  carnivorous  animals,which  means  they  eat  meat.The  \n",
      "animals they  eat  include  deer,zebras,giraffes and  hippos.Believe or\n",
      "not,the  female lions are the  hunters.However, it is the male who will \n",
      "eat  first  ,then the  female  and  the  cubs last.       \n",
      "\n"
     ]
    }
   ],
   "source": [
    "file_1=open('Haris1.txt','r')\n",
    "print(file_1.read())"
   ]
  },
  {
   "cell_type": "code",
   "execution_count": 18,
   "id": "8cb037cf-92bc-4e89-b4f8-91bcac80aaa3",
   "metadata": {},
   "outputs": [
    {
     "name": "stdout",
     "output_type": "stream",
     "text": [
      "Haris\n",
      "\n"
     ]
    }
   ],
   "source": [
    "file_1=open(\"Haris1.txt\",'rt')\n",
    "contt=(file_1.readline())\n",
    "print(contt)\n",
    "\n"
   ]
  },
  {
   "cell_type": "code",
   "execution_count": 29,
   "id": "61582af7-aaab-4deb-8288-520d8efaed59",
   "metadata": {},
   "outputs": [
    {
     "data": {
      "text/plain": [
       "['Haris\\n',\n",
       " '\\n',\n",
       " 'Topic;Non  Chronological  Report\\n',\n",
       " 'Ex;Write a  non  chronological  report  on  lion.\\n',\n",
       " 'Lions\\n',\n",
       " 'How  big are lions?\\n',\n",
       " 'Lions  are  the  second  largest type of  cat  in  the world.The  average\\n',\n",
       " 'male lion  weighs  around  180 kg  400 lb while  the  average  female\\n',\n",
       " 'lion  weighs  around  130  kg 290 lb.\\n',\n",
       " 'Where  do  lions live?\\n',\n",
       " 'Lions mostly  live  in  the grasslands,savanna  and  open  woodlands of\\n',\n",
       " 'Africa.\\n',\n",
       " 'Do  lions live on their own?\\n',\n",
       " 'No,lions  live in goups  called prides.Sometimes, a pride  can  contain as\\n',\n",
       " 'many as 40 lions,but  they can also  have  as few  as  three!\\n',\n",
       " 'What do  lions  eat?\\n',\n",
       " 'Lions  are  carnivorous  animals,which  means  they  eat  meat.The  \\n',\n",
       " 'animals they  eat  include  deer,zebras,giraffes and  hippos.Believe or\\n',\n",
       " 'not,the  female lions are the  hunters.However, it is the male who will \\n',\n",
       " 'eat  first  ,then the  female  and  the  cubs last.       \\n']"
      ]
     },
     "execution_count": 29,
     "metadata": {},
     "output_type": "execute_result"
    }
   ],
   "source": [
    "file_1=open('Haris1.txt','rt')\n",
    "file_1.readlines()"
   ]
  },
  {
   "cell_type": "code",
   "execution_count": 30,
   "id": "c14bbeac-5e17-40cb-8379-5f69e4154759",
   "metadata": {},
   "outputs": [
    {
     "name": "stdout",
     "output_type": "stream",
     "text": [
      "['Haris\\n', '\\n', 'Topic;Non  Chronological  Report\\n', 'Ex;Write a  non  chronological  report  on  lion.\\n', 'Lions\\n', 'How  big are lions?\\n', 'Lions  are  the  second  largest type of  cat  in  the world.The  average\\n', 'male lion  weighs  around  180 kg  400 lb while  the  average  female\\n', 'lion  weighs  around  130  kg 290 lb.\\n', 'Where  do  lions live?\\n', 'Lions mostly  live  in  the grasslands,savanna  and  open  woodlands of\\n', 'Africa.\\n', 'Do  lions live on their own?\\n', 'No,lions  live in goups  called prides.Sometimes, a pride  can  contain as\\n', 'many as 40 lions,but  they can also  have  as few  as  three!\\n', 'What do  lions  eat?\\n', 'Lions  are  carnivorous  animals,which  means  they  eat  meat.The  \\n', 'animals they  eat  include  deer,zebras,giraffes and  hippos.Believe or\\n', 'not,the  female lions are the  hunters.However, it is the male who will \\n', 'eat  first  ,then the  female  and  the  cubs last.       \\n']\n"
     ]
    }
   ],
   "source": [
    "file_1=open('Haris1.txt','rt')\n",
    "print(file_1.readlines())"
   ]
  },
  {
   "cell_type": "code",
   "execution_count": 32,
   "id": "0e5e7703-9826-4df5-af37-57c9281460f4",
   "metadata": {},
   "outputs": [
    {
     "name": "stdout",
     "output_type": "stream",
     "text": [
      "Haris\n",
      "\n",
      "\n",
      "\n",
      "Topic;Non  Chronological  Report\n",
      "\n",
      "Ex;Write a  non  chronological  report  on  lion.\n",
      "\n",
      "Lions\n",
      "\n",
      "How  big are lions?\n",
      "\n",
      "Lions  are  the  second  largest type of  cat  in  the world.The  average\n",
      "\n",
      "male lion  weighs  around  180 kg  400 lb while  the  average  female\n",
      "\n",
      "lion  weighs  around  130  kg 290 lb.\n",
      "\n",
      "Where  do  lions live?\n",
      "\n",
      "Lions mostly  live  in  the grasslands,savanna  and  open  woodlands of\n",
      "\n",
      "Africa.\n",
      "\n",
      "Do  lions live on their own?\n",
      "\n",
      "No,lions  live in goups  called prides.Sometimes, a pride  can  contain as\n",
      "\n",
      "many as 40 lions,but  they can also  have  as few  as  three!\n",
      "\n",
      "What do  lions  eat?\n",
      "\n",
      "Lions  are  carnivorous  animals,which  means  they  eat  meat.The  \n",
      "\n",
      "animals they  eat  include  deer,zebras,giraffes and  hippos.Believe or\n",
      "\n",
      "not,the  female lions are the  hunters.However, it is the male who will \n",
      "\n",
      "eat  first  ,then the  female  and  the  cubs last.       \n",
      "\n"
     ]
    }
   ],
   "source": [
    "file_1=open('Haris1.txt','rt')\n",
    "\n",
    "for line in file_1:\n",
    "    print(line)"
   ]
  },
  {
   "cell_type": "code",
   "execution_count": 33,
   "id": "63f8125b-d08c-472b-86ba-7a1266d80fa8",
   "metadata": {},
   "outputs": [
    {
     "name": "stdout",
     "output_type": "stream",
     "text": [
      "<_io.TextIOWrapper name='Haris1.txt' mode='rt' encoding='cp1252'>\n"
     ]
    }
   ],
   "source": [
    "print(file_1)\n"
   ]
  },
  {
   "cell_type": "code",
   "execution_count": 40,
   "id": "b250adbe-bc62-4027-a953-ffd3f4e9a252",
   "metadata": {},
   "outputs": [
    {
     "name": "stdout",
     "output_type": "stream",
     "text": [
      "Haris\n",
      "\n"
     ]
    }
   ],
   "source": [
    "file_1=open(\"Haris1.txt\",'r')\n",
    "print(file_1.readline(220))\n",
    "#By default it excutes 1st line of the statement"
   ]
  },
  {
   "cell_type": "code",
   "execution_count": 56,
   "id": "22f1711c-9a6b-491f-ba66-dacf54d3481c",
   "metadata": {},
   "outputs": [
    {
     "data": {
      "text/plain": [
       "8"
      ]
     },
     "execution_count": 56,
     "metadata": {},
     "output_type": "execute_result"
    }
   ],
   "source": [
    "file=open('tf.txt','a')\n",
    "(file.write(' \\nPython'))"
   ]
  },
  {
   "cell_type": "code",
   "execution_count": 2,
   "id": "a1cfbc7e-cdef-4279-8127-a97891210820",
   "metadata": {},
   "outputs": [
    {
     "name": "stdout",
     "output_type": "stream",
     "text": [
      "['\\n', 'I make model of CNN \\n', 'Github\\n', 'I make model of CNN \\n']\n"
     ]
    }
   ],
   "source": [
    "file=open('tf.txt','r')\n",
    "print(file.readlines(35))"
   ]
  },
  {
   "cell_type": "code",
   "execution_count": 3,
   "id": "a7e0de0a-ae23-4cc4-b16e-d7cdf3f5c267",
   "metadata": {},
   "outputs": [
    {
     "name": "stdout",
     "output_type": "stream",
     "text": [
      "Github \\Python\n",
      "\n",
      "I make model of CNN \n",
      "\n",
      "Github \n",
      "\n",
      "Python\n"
     ]
    }
   ],
   "source": [
    "for line in file:\n",
    "    print(line)"
   ]
  },
  {
   "cell_type": "code",
   "execution_count": null,
   "id": "d199f24a-2f01-4b6b-9f0b-3f0d71302b62",
   "metadata": {},
   "outputs": [],
   "source": []
  }
 ],
 "metadata": {
  "kernelspec": {
   "display_name": "Python 3 (ipykernel)",
   "language": "python",
   "name": "python3"
  },
  "language_info": {
   "codemirror_mode": {
    "name": "ipython",
    "version": 3
   },
   "file_extension": ".py",
   "mimetype": "text/x-python",
   "name": "python",
   "nbconvert_exporter": "python",
   "pygments_lexer": "ipython3",
   "version": "3.10.13"
  }
 },
 "nbformat": 4,
 "nbformat_minor": 5
}
