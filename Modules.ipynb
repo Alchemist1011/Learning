{
 "cells": [
  {
   "cell_type": "markdown",
   "id": "cb6c3128-73e6-4112-bb15-7d02b4f37c74",
   "metadata": {},
   "source": [
    "#### **OS Module**\n",
    "\n",
    "\n",
    "```import os``` \n",
    "* __To make make new dir (mkdir)__\n",
    "* __To remove the dir (rmdir)__\n",
    "* __To access the current dir (getcwd)__ \n",
    "* __To list the dir (os.listdir)__\n",
    "* __To call the os dir (dir(os))__\n",
    "* __To check wether dir exist or not (os.path.exists('File name'))__\n",
    "  "
   ]
  },
  {
   "cell_type": "code",
   "execution_count": 57,
   "id": "4a5038a8-39a0-4cb0-b384-4aa845441713",
   "metadata": {},
   "outputs": [
    {
     "name": "stdout",
     "output_type": "stream",
     "text": [
      "['DirEntry', 'EX_OK', 'F_OK', 'GenericAlias', 'Mapping', 'MutableMapping', 'O_APPEND', 'O_BINARY', 'O_CREAT', 'O_EXCL', 'O_NOINHERIT', 'O_RANDOM', 'O_RDONLY', 'O_RDWR', 'O_SEQUENTIAL', 'O_SHORT_LIVED', 'O_TEMPORARY', 'O_TEXT', 'O_TRUNC', 'O_WRONLY', 'P_DETACH', 'P_NOWAIT', 'P_NOWAITO', 'P_OVERLAY', 'P_WAIT', 'PathLike', 'R_OK', 'SEEK_CUR', 'SEEK_END', 'SEEK_SET', 'TMP_MAX', 'W_OK', 'X_OK', '_AddedDllDirectory', '_Environ', '__all__', '__builtins__', '__doc__', '__file__', '__loader__', '__name__', '__package__', '__spec__', '_check_methods', '_execvpe', '_exists', '_exit', '_fspath', '_get_exports_list', '_walk', '_wrap_close', 'abc', 'abort', 'access', 'add_dll_directory', 'altsep', 'chdir', 'chmod', 'close', 'closerange', 'cpu_count', 'curdir', 'defpath', 'device_encoding', 'devnull', 'dup', 'dup2', 'environ', 'error', 'execl', 'execle', 'execlp', 'execlpe', 'execv', 'execve', 'execvp', 'execvpe', 'extsep', 'fdopen', 'fsdecode', 'fsencode', 'fspath', 'fstat', 'fsync', 'ftruncate', 'get_exec_path', 'get_handle_inheritable', 'get_inheritable', 'get_terminal_size', 'getcwd', 'getcwdb', 'getenv', 'getlogin', 'getpid', 'getppid', 'isatty', 'kill', 'linesep', 'link', 'listdir', 'lseek', 'lstat', 'makedirs', 'mkdir', 'name', 'open', 'pardir', 'path', 'pathsep', 'pipe', 'popen', 'putenv', 'read', 'readlink', 'remove', 'removedirs', 'rename', 'renames', 'replace', 'rmdir', 'scandir', 'sep', 'set_handle_inheritable', 'set_inheritable', 'spawnl', 'spawnle', 'spawnv', 'spawnve', 'st', 'startfile', 'stat', 'stat_result', 'statvfs_result', 'strerror', 'supports_bytes_environ', 'supports_dir_fd', 'supports_effective_ids', 'supports_fd', 'supports_follow_symlinks', 'symlink', 'sys', 'system', 'terminal_size', 'times', 'times_result', 'truncate', 'umask', 'uname_result', 'unlink', 'unsetenv', 'urandom', 'utime', 'waitpid', 'waitstatus_to_exitcode', 'walk', 'write']\n"
     ]
    }
   ],
   "source": [
    "import os\n",
    "\n",
    "print(dir(os))"
   ]
  },
  {
   "cell_type": "code",
   "execution_count": 47,
   "id": "49638762-c556-4a02-801c-a3a0031d00d7",
   "metadata": {},
   "outputs": [
    {
     "data": {
      "text/plain": [
       "['.ipynb_checkpoints',\n",
       " 'abc',\n",
       " 'Assignment.ipynb',\n",
       " 'datatypes.txt',\n",
       " 'FATIMA.txt',\n",
       " 'File Handling.ipynb',\n",
       " 'file_2.txt',\n",
       " 'FO.txt',\n",
       " 'Function.ipynb',\n",
       " 'Haris.txt',\n",
       " 'Haris1.txt',\n",
       " 'import module.ipynb',\n",
       " 'Importing M .py',\n",
       " 'Islamabad.ipynb',\n",
       " 'Loops.ipynb',\n",
       " 'Modules.ipynb',\n",
       " 'My Pic.jpg',\n",
       " 'practice.ipynb',\n",
       " 'tf.txt',\n",
       " 'Usman_Zahoor.pdf']"
      ]
     },
     "execution_count": 47,
     "metadata": {},
     "output_type": "execute_result"
    }
   ],
   "source": [
    "os.listdir()"
   ]
  },
  {
   "cell_type": "code",
   "execution_count": 69,
   "id": "d07f0c12-1de5-4ee9-a7ef-d5c9336663c4",
   "metadata": {},
   "outputs": [
    {
     "ename": "FileNotFoundError",
     "evalue": "[WinError 2] The system cannot find the file specified: 'Module'",
     "output_type": "error",
     "traceback": [
      "\u001b[1;31m---------------------------------------------------------------------------\u001b[0m",
      "\u001b[1;31mFileNotFoundError\u001b[0m                         Traceback (most recent call last)",
      "Cell \u001b[1;32mIn[69], line 1\u001b[0m\n\u001b[1;32m----> 1\u001b[0m (os\u001b[38;5;241m.\u001b[39mrmdir(\u001b[38;5;124m\"\u001b[39m\u001b[38;5;124mModule\u001b[39m\u001b[38;5;124m\"\u001b[39m))\n",
      "\u001b[1;31mFileNotFoundError\u001b[0m: [WinError 2] The system cannot find the file specified: 'Module'"
     ]
    }
   ],
   "source": [
    "(os.rmdir(\"Module\"))"
   ]
  },
  {
   "cell_type": "code",
   "execution_count": 70,
   "id": "3321c9a4-82c3-4df9-b72a-84c87770e210",
   "metadata": {},
   "outputs": [
    {
     "name": "stdout",
     "output_type": "stream",
     "text": [
      "False\n"
     ]
    }
   ],
   "source": [
    "print(os.path.exists('Module'))"
   ]
  },
  {
   "cell_type": "code",
   "execution_count": 76,
   "id": "31bc8e2d-8b25-42e2-8a88-7ac5953f3a17",
   "metadata": {},
   "outputs": [
    {
     "name": "stdout",
     "output_type": "stream",
     "text": [
      "Not found\n"
     ]
    }
   ],
   "source": [
    "if os.path.exists(\"Module file\"):\n",
    "    print('Not found')\n",
    "\n",
    "else:\n",
    "    (os.mkdir(\"Module file\"))"
   ]
  },
  {
   "cell_type": "code",
   "execution_count": 86,
   "id": "bb03b971-0f34-4ae3-bb7c-63fe57ab3d14",
   "metadata": {},
   "outputs": [
    {
     "name": "stdout",
     "output_type": "stream",
     "text": [
      "60\n"
     ]
    }
   ],
   "source": [
    "f=open(\"Haris.txt\",'w')\n",
    "print(f.write('Data-Structure\\nData-Base Managemnet\\nProgramming Fundamentals'))\n",
    "\n",
    "f.close()"
   ]
  },
  {
   "cell_type": "code",
   "execution_count": 88,
   "id": "4f456f3c-9e0b-4179-b672-1194f41cfafb",
   "metadata": {},
   "outputs": [
    {
     "name": "stdout",
     "output_type": "stream",
     "text": [
      "Data-Structure\n",
      "Data-Base Managemnet\n",
      "Programming Fundamentals\n"
     ]
    }
   ],
   "source": [
    "f=open(\"Haris.txt\",'r')\n",
    "\n",
    "print(f.read())"
   ]
  },
  {
   "cell_type": "code",
   "execution_count": 95,
   "id": "a963fda5-b5e4-4f24-85c4-3a9560930cbb",
   "metadata": {},
   "outputs": [
    {
     "name": "stdout",
     "output_type": "stream",
     "text": [
      "D:\\Usman\n"
     ]
    }
   ],
   "source": [
    "os.chdir(r'D:\\Usman')\n",
    "print(os.getcwd())"
   ]
  },
  {
   "cell_type": "code",
   "execution_count": 97,
   "id": "21cf61cd-6e67-49ee-a2fc-33e5ee18d07d",
   "metadata": {},
   "outputs": [
    {
     "data": {
      "text/plain": [
       "['294195686_151921857433548_136461801647306381_n.jpg',\n",
       " 'ABU',\n",
       " 'argu.txt',\n",
       " 'b.png',\n",
       " 'Books',\n",
       " 'BRAIN',\n",
       " 'cnic.jpg',\n",
       " 'DE.txt',\n",
       " 'download.jpg',\n",
       " 'Facebook',\n",
       " 'FED',\n",
       " 'Haris',\n",
       " 'hel.jpg',\n",
       " 'html.css',\n",
       " 'ideaIC-2020.3.3.exe',\n",
       " 'images',\n",
       " 'index.php',\n",
       " 'iub',\n",
       " 'life-cycle-facebook-cover.jpg',\n",
       " 'main.css',\n",
       " 'pic',\n",
       " 'Professor RA',\n",
       " 'Random',\n",
       " 'ReportViewer.pdf',\n",
       " 'result.jpg',\n",
       " 'T.M.C',\n",
       " 'Untitled Diagram.drawio',\n",
       " 'Vikings (2020) Season- 06 720p Netflix Dual Audio [Hindi + English] Esub DD-5.1 x264 - Shadow',\n",
       " 'Vikings S06 Part 2 720p WEB-DL [Hindi + English] x264 ESub - KatmovieHD',\n",
       " 'WhatsApp Image 2022-06-23 at 10.39.27 PM.jpeg',\n",
       " 'WhatsApp Video 2023-06-12 at 11.26.13.mp4',\n",
       " 'WhatsApp Video 2023-06-12 at 11.26.24.mp4']"
      ]
     },
     "execution_count": 97,
     "metadata": {},
     "output_type": "execute_result"
    }
   ],
   "source": [
    "os.listdir()"
   ]
  },
  {
   "cell_type": "code",
   "execution_count": 100,
   "id": "3e20b0cc-d9b3-410b-900f-2020e38701ac",
   "metadata": {},
   "outputs": [
    {
     "data": {
      "text/plain": [
       "True"
      ]
     },
     "execution_count": 100,
     "metadata": {},
     "output_type": "execute_result"
    }
   ],
   "source": [
    "os.path.exists(\"T.M.C\")"
   ]
  },
  {
   "cell_type": "code",
   "execution_count": 104,
   "id": "eba87f99-ceec-4de1-984b-856cc9636880",
   "metadata": {},
   "outputs": [
    {
     "data": {
      "text/plain": [
       "4"
      ]
     },
     "execution_count": 104,
     "metadata": {},
     "output_type": "execute_result"
    }
   ],
   "source": [
    "os.chdir(r'C:\\Users\\Usman\\isb')\n",
    "os.getcwd()\n",
    "os.cpu_count()"
   ]
  },
  {
   "cell_type": "code",
   "execution_count": 113,
   "id": "bac853e8-18ed-42e3-956a-b4e9d3cea0bc",
   "metadata": {},
   "outputs": [
    {
     "data": {
      "text/plain": [
       "'C:\\\\Users\\\\Usman\\\\isb'"
      ]
     },
     "execution_count": 113,
     "metadata": {},
     "output_type": "execute_result"
    }
   ],
   "source": [
    "os.getcwd()\n"
   ]
  },
  {
   "cell_type": "code",
   "execution_count": null,
   "id": "ec67c4d5-3fb7-4e68-b4f4-bf33264eb052",
   "metadata": {},
   "outputs": [],
   "source": []
  }
 ],
 "metadata": {
  "kernelspec": {
   "display_name": "Python 3 (ipykernel)",
   "language": "python",
   "name": "python3"
  },
  "language_info": {
   "codemirror_mode": {
    "name": "ipython",
    "version": 3
   },
   "file_extension": ".py",
   "mimetype": "text/x-python",
   "name": "python",
   "nbconvert_exporter": "python",
   "pygments_lexer": "ipython3",
   "version": "3.11.7"
  }
 },
 "nbformat": 4,
 "nbformat_minor": 5
}
