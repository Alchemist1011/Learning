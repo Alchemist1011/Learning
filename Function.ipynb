{
 "cells": [
  {
   "cell_type": "code",
   "execution_count": 1,
   "id": "e96f8c4a-b899-497c-bfe8-458a7a9c8cac",
   "metadata": {},
   "outputs": [
    {
     "name": "stdout",
     "output_type": "stream",
     "text": [
      "hey!\n",
      "How are you?\n",
      "Where are you from?\n"
     ]
    }
   ],
   "source": [
    "def my_function():\n",
    "    print('hey!')\n",
    "    print('How are you?')\n",
    "    print('Where are you from?')\n",
    "my_function()    "
   ]
  },
  {
   "cell_type": "code",
   "execution_count": 4,
   "id": "9c9b0292-eebf-4ed4-940c-6f623969a5d9",
   "metadata": {},
   "outputs": [
    {
     "name": "stdout",
     "output_type": "stream",
     "text": [
      "('Bahawalpur', 'Multan')\n",
      "('Bahawalpur', 'Multan')\n",
      "('Bahawalpur', 'Multan')\n"
     ]
    }
   ],
   "source": [
    "def my_fun():\n",
    "    text=(\"Bahawalpur\",\"Multan\")\n",
    "    print(text)\n",
    "    print(text)\n",
    "    print(text)\n",
    "my_fun()    "
   ]
  },
  {
   "cell_type": "code",
   "execution_count": 8,
   "id": "a5bde070-e410-407e-8c6b-335bb4160548",
   "metadata": {},
   "outputs": [
    {
     "name": "stdout",
     "output_type": "stream",
     "text": [
      "City\n",
      "City\n",
      "City\n"
     ]
    }
   ],
   "source": [
    "def my_func(Islamabad):\n",
    "    print('City')\n",
    "    print('City')\n",
    "    print('City')\n",
    "\n",
    "my_func('Islamabad')\n",
    "    "
   ]
  },
  {
   "cell_type": "code",
   "execution_count": 12,
   "id": "7c3752da-fb64-41b5-ba65-5166a40f8f1b",
   "metadata": {},
   "outputs": [
    {
     "name": "stdout",
     "output_type": "stream",
     "text": [
      "Hello\n",
      "How you doing?\n",
      "Where are you from?\n"
     ]
    }
   ],
   "source": [
    "def my_func1(greeting):\n",
    "    print('Hello')\n",
    "    print('How you doing?')\n",
    "    print('Where are you from?')\n",
    "my_func1('greeting')    "
   ]
  },
  {
   "cell_type": "code",
   "execution_count": 21,
   "id": "81c07c35-822c-437c-aacd-c091f06d6384",
   "metadata": {},
   "outputs": [
    {
     "name": "stdout",
     "output_type": "stream",
     "text": [
      "\n",
      "hello funtion\n",
      "hello funtion\n"
     ]
    }
   ],
   "source": [
    "def hello_fun():\n",
    "    return('hello funtion')\n",
    "\n",
    "print()\n",
    "print(hello_fun())\n",
    "print(hello_fun())"
   ]
  },
  {
   "cell_type": "code",
   "execution_count": 17,
   "id": "94bf3e2a-5bd9-481d-9526-7f3b48acf79a",
   "metadata": {},
   "outputs": [
    {
     "name": "stdout",
     "output_type": "stream",
     "text": [
      "what about weather?\n",
      "what about weather?\n",
      "what about weather?\n"
     ]
    }
   ],
   "source": [
    "def my_fu():\n",
    "    return('what about weather?')\n",
    "\n",
    "print(my_fu())\n",
    "print(my_fu())\n",
    "print(my_fu())"
   ]
  },
  {
   "cell_type": "code",
   "execution_count": 27,
   "id": "720ea623-ec9a-4ca4-8b29-50b4d10e3699",
   "metadata": {},
   "outputs": [
    {
     "name": "stdout",
     "output_type": "stream",
     "text": [
      "Pakistan\n",
      "Pakistan\n",
      "Pakistan\n"
     ]
    }
   ],
   "source": [
    "def world():\n",
    "    return('Pakistan')\n",
    "\n",
    "print(world())\n",
    "print(world())\n",
    "print(world())"
   ]
  },
  {
   "cell_type": "code",
   "execution_count": 41,
   "id": "1195893b-667f-4602-8032-c14ad1afdd90",
   "metadata": {},
   "outputs": [
    {
     "name": "stdout",
     "output_type": "stream",
     "text": [
      "Hey! Ali where are you going?\n"
     ]
    }
   ],
   "source": [
    "def my_function1(greeting,name='Ali'):\n",
    "    \n",
    "    return('{}! {} where are you going?'.format(greeting,name))\n",
    "\n",
    "print(my_function1('Hey'))"
   ]
  },
  {
   "cell_type": "code",
   "execution_count": 60,
   "id": "4e2a118f-16d5-437d-9e28-fd748c1a6329",
   "metadata": {},
   "outputs": [
    {
     "name": "stdout",
     "output_type": "stream",
     "text": [
      "Hey\n",
      "How are you?\n",
      "Where are you from\n"
     ]
    }
   ],
   "source": [
    "def my_funtion2(greeting):\n",
    "    return(format(greeting))\n",
    "\n",
    "print(my_funtion2('Hey'))\n",
    "print(my_funtion2('How are you?'))\n",
    "print(my_funtion2('Where are you from'))"
   ]
  },
  {
   "cell_type": "code",
   "execution_count": 67,
   "id": "338e4d74-9672-4afb-adf1-15f1c8a1d495",
   "metadata": {},
   "outputs": [
    {
     "name": "stdout",
     "output_type": "stream",
     "text": [
      "Hey how are you Ali and Umair\n",
      "Hey how are you Ali and Umair\n"
     ]
    }
   ],
   "source": [
    "def my_f(greet,name='Umair'):\n",
    "    return('Hey how are you {} and {}'.format(greet,name))\n",
    "\n",
    "print(my_f('Ali'))\n",
    "print(my_f('Ali'))"
   ]
  },
  {
   "cell_type": "code",
   "execution_count": 74,
   "id": "05a71be3-8be1-4ef2-9bdf-947f51575058",
   "metadata": {},
   "outputs": [
    {
     "name": "stdout",
     "output_type": "stream",
     "text": [
      "hello Umair where is your hostel.I am living in H13 st.5 Professional Lodges\n",
      "hello Umair where is your hostel.I am living in H13 st.5 Professional Lodges\n",
      "hello Umair where is your hostel.I am living in H13 st.5 Professional Lodges\n"
     ]
    }
   ],
   "source": [
    "def my_locatio(name,hostel='H13 st.5 Professional Lodges'):\n",
    "    return('hello {} where is your hostel.I am living in {}'.format(name,hostel))\n",
    "\n",
    "print(my_locatio('Umair'))\n",
    "print(my_locatio('Umair'))\n",
    "print(my_locatio('Umair'))"
   ]
  },
  {
   "cell_type": "code",
   "execution_count": 84,
   "id": "c5e71c5a-685f-41b4-a6e3-0577cbdc9377",
   "metadata": {},
   "outputs": [
    {
     "name": "stdout",
     "output_type": "stream",
     "text": [
      "Usman positional arguments\n",
      "Umair positional arguments\n",
      "Usama positional arguments\n"
     ]
    }
   ],
   "source": [
    "def my_argu(name):\n",
    "    return(\"{} positional arguments\".format(name))\n",
    "\n",
    "print(my_argu('Usman'))\n",
    "print(my_argu('Umair'))\n",
    "print(my_argu('Usama'))"
   ]
  },
  {
   "cell_type": "code",
   "execution_count": 98,
   "id": "db01c2dd-8609-42a9-b18d-9c744f04a7d0",
   "metadata": {},
   "outputs": [
    {
     "name": "stdout",
     "output_type": "stream",
     "text": [
      "Breakfast was good.Whats the menu of it? \n",
      " Menu was Aloo Paratha and milk tea\n",
      "Breakfast was good.Whats the menu of it? \n",
      " Menu was Tea and milk tea\n",
      "Breakfast was good.Whats the menu of it? \n",
      " Menu was Hawa and milk tea\n"
     ]
    }
   ],
   "source": [
    "def my_breakfast(menu,tea='milk tea'):\n",
    "    return('Breakfast was good.Whats the menu of it? \\n Menu was {} and {}'.format(menu,tea))\n",
    "\n",
    "print(my_breakfast('Aloo Paratha'))\n",
    "\n",
    "print(my_breakfast('Tea'))\n",
    "\n",
    "print(my_breakfast('Hawa'))"
   ]
  },
  {
   "cell_type": "code",
   "execution_count": 8,
   "id": "17ff9c4f-a50e-4263-b213-c3e36886f682",
   "metadata": {},
   "outputs": [
    {
     "name": "stdout",
     "output_type": "stream",
     "text": [
      "I have my dinner at 8:15.What was in menu? rice and raita\n"
     ]
    }
   ],
   "source": [
    "def my_dinner(menu,orr='raita'):\n",
    "    return(\"I have my dinner at 8:15.What was in menu? {} and {}\".format(menu,orr))\n",
    "\n",
    "print(my_dinner('rice'))\n",
    "    "
   ]
  },
  {
   "cell_type": "code",
   "execution_count": 14,
   "id": "421e38e1-14cd-4f2c-a72b-bf8a4145278e",
   "metadata": {},
   "outputs": [
    {
     "name": "stdout",
     "output_type": "stream",
     "text": [
      "I went to market to buy these things Eggs,rice,drinks \n",
      "I went to market to buy these things Milk or Choc,rice,drinks \n",
      "I went to market to buy these things Butter,rice,drinks \n"
     ]
    }
   ],
   "source": [
    "def market(items,gro='rice',dr='drinks'):\n",
    "    return('I went to market to buy these things {},{},{} '.format(items,gro,dr))\n",
    "\n",
    "print(market('Eggs'))\n",
    "print(market('Milk or Choc'))\n",
    "print(market('Butter'))"
   ]
  },
  {
   "cell_type": "code",
   "execution_count": 15,
   "id": "df2ede70-bcd9-4c25-b685-36ca179f7fff",
   "metadata": {},
   "outputs": [
    {
     "ename": "NameError",
     "evalue": "name 'args' is not defined",
     "output_type": "error",
     "traceback": [
      "\u001b[1;31m---------------------------------------------------------------------------\u001b[0m",
      "\u001b[1;31mNameError\u001b[0m                                 Traceback (most recent call last)",
      "Cell \u001b[1;32mIn[15], line 5\u001b[0m\n\u001b[0;32m      2\u001b[0m     \u001b[38;5;28mprint\u001b[39m(\u001b[38;5;241m*\u001b[39margs)\n\u001b[0;32m      3\u001b[0m     \u001b[38;5;28mprint\u001b[39m(\u001b[38;5;241m*\u001b[39m\u001b[38;5;241m*\u001b[39mkwargs)\n\u001b[1;32m----> 5\u001b[0m \u001b[38;5;28mprint\u001b[39m(\u001b[43mdata\u001b[49m\u001b[43m(\u001b[49m\u001b[38;5;124;43m'\u001b[39;49m\u001b[38;5;124;43mInfo,Address,Mail\u001b[39;49m\u001b[38;5;124;43m'\u001b[39;49m\u001b[43m)\u001b[49m)\n",
      "Cell \u001b[1;32mIn[15], line 2\u001b[0m, in \u001b[0;36mdata\u001b[1;34m(person)\u001b[0m\n\u001b[0;32m      1\u001b[0m \u001b[38;5;28;01mdef\u001b[39;00m \u001b[38;5;21mdata\u001b[39m(person):\n\u001b[1;32m----> 2\u001b[0m     \u001b[38;5;28mprint\u001b[39m(\u001b[38;5;241m*\u001b[39m\u001b[43margs\u001b[49m)\n\u001b[0;32m      3\u001b[0m     \u001b[38;5;28mprint\u001b[39m(\u001b[38;5;241m*\u001b[39m\u001b[38;5;241m*\u001b[39mkwargs)\n",
      "\u001b[1;31mNameError\u001b[0m: name 'args' is not defined"
     ]
    }
   ],
   "source": [
    "def person():\n",
    "\n",
    "person('Umair',21,)"
   ]
  },
  {
   "cell_type": "code",
   "execution_count": null,
   "id": "164c5bff-3caf-4fa2-a3e9-cd0537832829",
   "metadata": {},
   "outputs": [],
   "source": []
  }
 ],
 "metadata": {
  "kernelspec": {
   "display_name": "Python 3 (ipykernel)",
   "language": "python",
   "name": "python3"
  },
  "language_info": {
   "codemirror_mode": {
    "name": "ipython",
    "version": 3
   },
   "file_extension": ".py",
   "mimetype": "text/x-python",
   "name": "python",
   "nbconvert_exporter": "python",
   "pygments_lexer": "ipython3",
   "version": "3.10.13"
  }
 },
 "nbformat": 4,
 "nbformat_minor": 5
}
